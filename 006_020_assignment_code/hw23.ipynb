{
 "cells": [
  {
   "cell_type": "code",
   "execution_count": 1,
   "metadata": {},
   "outputs": [],
   "source": [
    "import pandas as pd\n",
    "from sklearn.feature_selection import SelectKBest, f_regression\n",
    "from sklearn.preprocessing import PolynomialFeatures\n",
    "\n",
    "# Load preprocessed data\n",
    "data = pd.read_csv('preprocessed_data.csv')\n",
    "X = data.drop('target', axis=1)\n",
    "y = data['target']\n",
    "\n",
    "# Feature selection using correlation\n",
    "correlation = X.corr()['target'].abs().sort_values(ascending=False)\n",
    "selected_features = correlation[correlation > 0.5].index.tolist()\n",
    "\n",
    "# Create polynomial features\n",
    "poly = PolynomialFeatures(degree=2, include_bias=False)\n",
    "X_poly = poly.fit_transform(X[selected_features])\n",
    "\n",
    "# Select top K features\n",
    "selector = SelectKBest(score_func=f_regression, k=10)\n",
    "X_selected = selector.fit_transform(X_poly, y)\n",
    "\n",
    "# Display selected features and their shape\n",
    "print(\"Selected features:\", X.columns[selector.get_support()].tolist())\n",
    "print(\"Shape of selected features:\", X_selected.shape)"
   ]
  }
 ],
 "metadata": {
  "kernelspec": {
   "display_name": "base",
   "language": "python",
   "name": "python3"
  },
  "language_info": {
   "codemirror_mode": {
    "name": "ipython",
    "version": 3
   },
   "file_extension": ".py",
   "mimetype": "text/x-python",
   "name": "python",
   "nbconvert_exporter": "python",
   "pygments_lexer": "ipython3",
   "version": "3.11.8"
  }
 },
 "nbformat": 4,
 "nbformat_minor": 2
}
